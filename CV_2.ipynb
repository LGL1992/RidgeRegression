{
 "cells": [
  {
   "cell_type": "code",
   "execution_count": 1,
   "metadata": {
    "collapsed": true
   },
   "outputs": [],
   "source": [
    "import os\n",
    "import numpy as np\n",
    "import pandas as pd\n",
    "import matplotlib.pyplot as plt\n",
    "from numpy import sqrt\n",
    "from numpy.linalg import norm\n",
    "from numpy.linalg import inv\n",
    "import openpyxl as op"
   ]
  },
  {
   "cell_type": "code",
   "execution_count": 41,
   "metadata": {},
   "outputs": [],
   "source": [
    "os.chdir(\"/Users/sifanliu/Dropbox/Dual Sketch/experiments/CV_results\")"
   ]
  },
  {
   "cell_type": "code",
   "execution_count": 2,
   "metadata": {},
   "outputs": [],
   "source": [
    "K_seq = [3, 5, 10]\n",
    "alpha_seq = [0.3, 1, 3, 10]\n",
    "tt_ratio_seq = [0.5, 0.7, 0.9]\n",
    "gamma_seq = [0.1, 0.7, 1.1, 1.7]"
   ]
  },
  {
   "cell_type": "code",
   "execution_count": 3,
   "metadata": {},
   "outputs": [],
   "source": [
    "def k_fold(X, Y, K=5, shuffel=True):\n",
    "    n, p = X.shape\n",
    "    if shuffel:\n",
    "        data_tilde = np.concatenate([X, Y], axis=1)\n",
    "        np.random.shuffle(data_tilde)\n",
    "        X = data_tilde[:, :p]\n",
    "        Y = data_tilde[:, p]\n",
    "    batch_size = np.floor(n / K)\n",
    "    lbd_seq = np.linspace(0.0001, 5, 20)\n",
    "    err_lbd = np.zeros(20)\n",
    "    beta_lbd = np.zeros((p, 20))\n",
    "    for i in range(20):\n",
    "        lbd = lbd_seq[i]\n",
    "        err_tot = 0\n",
    "        beta_cv = np.zeros(p)\n",
    "        for k in range(K):\n",
    "            idx_valid = np.arange(k * batch_size, (k + 1) * batch_size, 1, dtype=int)\n",
    "            X_valid = X[idx_valid, :]\n",
    "            Y_valid = Y[idx_valid]\n",
    "            idx_train = list(set(np.arange(0, n, 1, dtype=int)) - set(idx_valid))\n",
    "            X_train = X[idx_train, :]\n",
    "            Y_train = Y[idx_train]\n",
    "            n_train = X_train.shape[0]\n",
    "            beta_k = np.linalg.inv(X_train.T @ X_train + n_train * lbd * np.identity(p)) @ X_train.T @ Y_train\n",
    "            beta_cv = beta_cv + beta_k\n",
    "            pred_err_k = norm(Y_valid - X_valid @ beta_k) ** 2\n",
    "            err_tot = err_tot + pred_err_k\n",
    "        err_lbd[i] = err_tot / K\n",
    "        beta_lbd[:, i] = beta_cv / K\n",
    "    min_idx = np.argmin(err_lbd)\n",
    "    lbd_optim = lbd_seq[min_idx]\n",
    "    beta_optim = beta_lbd[:, min_idx]\n",
    "    return lbd_optim, beta_optim.reshape(p, 1)"
   ]
  },
  {
   "cell_type": "code",
   "execution_count": 103,
   "metadata": {},
   "outputs": [],
   "source": [
    "def train_test(X, Y, tt_ratio=0.8, shuffel=True):\n",
    "    n, p = X.shape\n",
    "    n_train = np.int(n * tt_ratio)\n",
    "    n_test = n - n_train\n",
    "    if shuffel:\n",
    "        data_tilde = np.concatenate([X, Y], axis=1)\n",
    "        np.random.shuffle(data_tilde)\n",
    "        X = data_tilde[:, :p]\n",
    "        Y = data_tilde[:, p]\n",
    "    X_train = X[:n_train, :]\n",
    "    Y_train = Y[:n_train]\n",
    "    X_test = X[n_train:, :]\n",
    "    Y_test = Y[n_train:]\n",
    "    lbd_seq = np.linspace(0.0001, 5, 20)\n",
    "    err_lbd = np.zeros(20)\n",
    "    beta_lbd = np.zeros((p, 20))\n",
    "    for i in range(20):\n",
    "        lbd = lbd_seq[i]\n",
    "        beta_train = np.linalg.inv(X_train.T @ X_train + n_train * lbd * np.identity(p)) @ X_train.T @ Y_train\n",
    "        err_lbd[i] = norm(Y_test - X_test @ beta_train) ** 2\n",
    "        beta_lbd[:, i] = beta_train\n",
    "    min_idx = np.argmin(err_lbd)\n",
    "    lbd_optim = lbd_seq[min_idx]\n",
    "    beta_optim = beta_lbd[:, min_idx]\n",
    "    return lbd_optim, beta_optim.reshape(p, 1)\n"
   ]
  },
  {
   "cell_type": "code",
   "execution_count": 4,
   "metadata": {},
   "outputs": [],
   "source": [
    "def leave_one_out(X, Y):\n",
    "    n, p = X.shape\n",
    "    lbd_seq = np.linspace(0.001, 5, 20)\n",
    "    err_lbd = np.zeros(20)\n",
    "    for i in range(20):\n",
    "        lbd = lbd_seq[i]\n",
    "        M_lbd = inv(X.T @ X + n * lbd * np.identity(p))\n",
    "        beta_lbd = M_lbd @ X.T @ Y\n",
    "        S_lbd = X @ M_lbd @ X.T\n",
    "        dd = 1 - np.diag(S_lbd)\n",
    "        nn = Y - X @ beta_lbd\n",
    "        err_lbd[i] = np.mean((nn / dd) ** 2)\n",
    "    min_idx = np.argmin(err_lbd)\n",
    "    lbd_optim = lbd_seq[min_idx]\n",
    "    return lbd_optim"
   ]
  },
  {
   "cell_type": "code",
   "execution_count": 105,
   "metadata": {},
   "outputs": [],
   "source": []
  },
  {
   "cell_type": "code",
   "execution_count": 5,
   "metadata": {},
   "outputs": [],
   "source": [
    "rep = 10\n",
    "# result = pd.DataFrame(np.zeros((rep, 7)), columns=['kf_avg', 'kf_refit', 'kf_bic_refit', 'tt', 'tt_refit', 'tt_bic_refit', 'loo'])\n",
    "result_kf = np.zeros((len(K_seq), rep, 3))\n",
    "result_tt = np.zeros((len(tt_ratio_seq), rep, 3))\n",
    "result_loo = np.zeros(rep)"
   ]
  },
  {
   "cell_type": "code",
   "execution_count": 94,
   "metadata": {
    "collapsed": true
   },
   "outputs": [],
   "source": [
    ""
   ]
  },
  {
   "cell_type": "code",
   "execution_count": 108,
   "metadata": {
    "collapsed": true
   },
   "outputs": [
    {
     "name": "stdout",
     "output_type": "stream",
     "text": [
      "gamma=1.1,alpha=10\n"
     ]
    }
   ],
   "source": [
    "n = 1000\n",
    "gamma_seq = [1.1]\n",
    "alpha_seq = [10]\n",
    "for gamma in gamma_seq:\n",
    "    for alpha in alpha_seq:\n",
    "        print(\"gamma={},alpha={}\".format(gamma, alpha))\n",
    "        p = np.int(n * gamma)\n",
    "        for r in range(rep):\n",
    "            X = np.random.randn(n, p)\n",
    "            beta = np.random.randn(p, 1) * alpha / sqrt(p)\n",
    "            epsilon = np.random.randn(n, 1)\n",
    "            Y = X @ beta + epsilon\n",
    "            X_test = np.random.randn(n, p)\n",
    "            epsilon_test = np.random.randn(n, 1)\n",
    "            Y_test = X_test @ beta + epsilon_test\n",
    "            gram = X.T @ X\n",
    "            corr = X.T @ Y\n",
    "            \n",
    "            # k-fold\n",
    "            j = 0\n",
    "            for K in K_seq:\n",
    "                lbd_kf, beta_kf = k_fold(X, Y, K)\n",
    "                # result.loc[r, 'kf_avg'] = norm(Y_test - X_test @ beta_kf) ** 2 / n\n",
    "                result_kf[j, r, 0] = norm(Y_test - X_test @ beta_kf) ** 2 / n\n",
    "                beta_kf_refit = inv(gram + n * lbd_kf * np.identity(p)) @ corr\n",
    "                # result[r, 'kf_refit'] = norm(Y_test - X_test @ beta_kf_refit) ** 2 / n\n",
    "                result_kf[j, r, 1] = norm(Y_test - X_test @ beta_kf_refit) ** 2 / n\n",
    "                lbd_kf_correct = lbd_kf * (K - 1) / K\n",
    "                beta_kf_refit_correct = inv(gram + n * lbd_kf_correct * np.identity(p)) @ corr\n",
    "                # result[r, 'kf_bic_refit'] = norm(Y_test - X_test @ beta_kf_refit_correct) ** 2 / n\n",
    "                result_kf[j, r, 2] = norm(Y_test - X_test @ beta_kf_refit_correct) ** 2 / n\n",
    "                j = j + 1\n",
    "                \n",
    "            # train-test\n",
    "            j = 0\n",
    "            for tt_ratio in tt_ratio_seq:\n",
    "                lbd_tt, beta_tt = train_test(X, Y, tt_ratio)\n",
    "                # result.loc[r, 'tt'] = norm(Y_test - X_test @ beta_tt) ** 2 / n\n",
    "                result_tt[j, r, 0] = norm(Y_test - X_test @ beta_tt) ** 2 / n\n",
    "                beta_tt_refit = inv(gram + n * lbd_tt * np.identity(p)) @ X.T @ Y\n",
    "                # result.loc[r, 'tt_refit'] = norm(Y_test - X_test @ beta_tt_refit) ** 2 / n\n",
    "                result_tt[j, r, 1] = norm(Y_test - X_test @ beta_tt_refit) ** 2 / n\n",
    "                lbd_tt_correct = lbd_tt * tt_ratio\n",
    "                beta_tt_refit_correct = inv(gram + n * lbd_tt_correct * np.identity(p)) @ corr\n",
    "                # result.loc[r, 'tt_bic_refit'] = norm(Y_test - X_test @ beta_tt_refit_correct) ** 2 / n\n",
    "                result_tt[j, r, 2] = norm(Y_test - X_test @ beta_tt_refit_correct) ** 2 / n\n",
    "                j = j + 1\n",
    "                \n",
    "            # leave one out\n",
    "            lbd_loo = leave_one_out(X, Y)\n",
    "            beta_loo_refit = inv(X.T @ X + n * lbd_loo * np.identity(p)) @ corr\n",
    "        \n",
    "        # write results\n",
    "        with open('kf_mean.csv', 'a') as outfile:\n",
    "            outfile.write('gamma={}_alpha={}\\n'.format(gamma, alpha))\n",
    "            np.savetxt(outfile, np.mean(result_kf, axis=1), fmt='%-7.7f', delimiter=',')\n",
    "        \n",
    "        with open('tt_mean.csv', 'a') as outfile:\n",
    "            np.savetxt(outfile, np.mean(result_tt, axis=1), fmt='%-7.7f', delimiter=',')\n",
    "        \n",
    "        # # result.loc[r, 'loo'] = norm(Y_test - X_test @ beta_loo_refit) ** 2 / n\n",
    "        # result_loo[r] = norm(Y_test - X_test @ beta_loo_refit) ** 2 / n\n",
    "        with open('loo.csv', 'a') as outfile:\n",
    "            np.savetxt(outfile, [np.mean(result_tt)], fmt='%-7.7f', delimiter=',')\n",
    "\n"
   ]
  },
  {
   "cell_type": "code",
   "execution_count": 54,
   "metadata": {
    "collapsed": true
   },
   "outputs": [
    {
     "name": "stdout",
     "output_type": "stream",
     "text": [
      "k-fold\n[[1.04614965 1.04548222 1.04322173]\n [1.04324317 1.04322183 1.04324877]\n [1.04327302 1.04322183 1.04313627]]\ntrain-test\n[[1.06493999 1.04487717 1.04379967]\n [1.04513832 1.04487717 1.04337807]\n [1.05054368 1.04769689 1.04668436]]\nloo\n1.0437888597275031\n"
     ]
    }
   ],
   "source": [
    "print(\"k-fold\")\n",
    "print(np.mean(result_kf, axis=1))\n",
    "print(\"train-test\")\n",
    "print(np.mean(result_tt, axis=1))\n",
    "print(\"loo\")\n",
    "print(np.mean(result_loo))"
   ]
  },
  {
   "cell_type": "code",
   "execution_count": 83,
   "metadata": {},
   "outputs": [
    {
     "data": {
      "text/plain": [
       "0.5089178205174714"
      ]
     },
     "execution_count": 83,
     "metadata": {},
     "output_type": "execute_result"
    }
   ],
   "source": [
    "np.mean(result_loo)"
   ]
  },
  {
   "cell_type": "code",
   "execution_count": 69,
   "metadata": {},
   "outputs": [
    {
     "data": {
      "text/plain": [
       "array([0.95817492, 1.01724573])"
      ]
     },
     "execution_count": 69,
     "metadata": {},
     "output_type": "execute_result"
    }
   ],
   "source": [
    "op."
   ]
  },
  {
   "cell_type": "code",
   "execution_count": 36,
   "metadata": {},
   "outputs": [],
   "source": [
    "import os"
   ]
  },
  {
   "cell_type": "code",
   "execution_count": 38,
   "metadata": {},
   "outputs": [],
   "source": [
    ""
   ]
  },
  {
   "cell_type": "code",
   "execution_count": null,
   "metadata": {},
   "outputs": [],
   "source": []
  }
 ],
 "metadata": {
  "kernelspec": {
   "display_name": "Python 2",
   "language": "python",
   "name": "python2"
  },
  "language_info": {
   "codemirror_mode": {
    "name": "ipython",
    "version": 2
   },
   "file_extension": ".py",
   "mimetype": "text/x-python",
   "name": "python",
   "nbconvert_exporter": "python",
   "pygments_lexer": "ipython2",
   "version": "2.7.6"
  }
 },
 "nbformat": 4,
 "nbformat_minor": 0
}
