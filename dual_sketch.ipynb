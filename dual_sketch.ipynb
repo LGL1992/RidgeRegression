{
 "cells": [
  {
   "cell_type": "code",
   "execution_count": 10,
   "metadata": {
    "collapsed": true
   },
   "outputs": [],
   "source": [
    "import numpy as np\n",
    "from numpy import sqrt\n",
    "from numpy.linalg import inv\n",
    "from numpy import log\n",
    "from numpy.linalg import norm\n",
    "import pandas as pd\n",
    "import matplotlib.pyplot as plt\n",
    "import os\n",
    "os.chdir('/Users/sifanliu/Dropbox/Dual Sketch/RidgeRegression')"
   ]
  },
  {
   "cell_type": "code",
   "execution_count": 2,
   "metadata": {},
   "outputs": [],
   "source": [
    "# generate a uniformly distributed orthogonal matrix\n",
    "def generate_haar_matrix(n, p):\n",
    "    if n <= p:\n",
    "        return np.linalg.qr(np.random.randn(p, n))[0].T\n",
    "    else:\n",
    "        return np.linalg.qr(np.random.randn(n, p))[0]\n",
    "\n",
    "\n",
    "def theta_1(lbd, gamma):\n",
    "    z_2 = -0.5 * (sqrt(gamma) + (1 + lbd) / sqrt(gamma) + sqrt((sqrt(gamma) + (1 + lbd) / sqrt(gamma)) ** 2 - 4))\n",
    "    return -(1 + lbd) / (gamma * lbd) - z_2 / (sqrt(gamma) * lbd)\n",
    "\n",
    "\n",
    "def theta_2(lbd, gamma):\n",
    "    delta = (sqrt(gamma) + (1 + lbd) / sqrt(gamma)) ** 2 - 4\n",
    "    return -1 / (gamma * lbd ** 2) + (gamma + 1) / (2 * gamma * lbd ** 2) - 1 / (2 * sqrt(gamma)) * (\n",
    "            (lbd + 1) / gamma + 1) / (lbd * sqrt(delta)) + 1 / (2 * sqrt(gamma)) * sqrt(delta) / (lbd ** 2)\n",
    "\n",
    "\n",
    "# MSE of ridge regression, no sketching\n",
    "def MSE_original(lbd, gamma, alpha=1, sigma=1, verbose=0):\n",
    "    the_1 = theta_1(lbd, gamma)\n",
    "    the_2 = theta_2(lbd, gamma)\n",
    "    bias = alpha ** 2 * lbd ** 2 * the_2\n",
    "    variance = gamma * sigma ** 2 * (the_1 - lbd * the_2)\n",
    "    if verbose == 0:\n",
    "        return bias + variance\n",
    "    else:\n",
    "        return bias + variance, bias, variance\n",
    "    \n",
    "\n",
    "# MSE of orthogonal dual sketch\n",
    "def MSE_dual(lbd, gamma, zeta, alpha=1.0, sigma=1.0, verbose=0):\n",
    "    the_1 = theta_1(lbd, zeta) * zeta + (1 - zeta) / lbd\n",
    "    the_2 = theta_2(lbd, zeta) * zeta + (1 - zeta) / lbd ** 2\n",
    "    bias_1 = alpha ** 2 / gamma * (\n",
    "            1 + (lbd + zeta - gamma) ** 2 * the_2 + 2 * (gamma - zeta - lbd) * the_1 + (\n",
    "            gamma - zeta) * the_1 ** 2)\n",
    "    bias_2 = -2 * alpha ** 2 / gamma * (1 - (lbd + zeta - gamma) * the_1)\n",
    "    bias = bias_1 + bias_2 + alpha ** 2\n",
    "    variance = sigma ** 2 * (the_1 - (lbd + zeta - gamma) * the_2)\n",
    "    if verbose == 0:\n",
    "        return bias + variance\n",
    "    else:\n",
    "        return bias + variance, bias, variance\n",
    "\n",
    "\n",
    "# compute the Stieltjes transform of MP\n",
    "def MP_Stieltjes(z, gamma):\n",
    "    return (1 - gamma - z - sqrt((1 + gamma - z) ** 2 - 4 * gamma)) / (2 * gamma * z)\n",
    "\n",
    "\n",
    "# compute the Stieltjes transform of inv-MP\n",
    "def inv_MP_Stieltjes(z, gamma):\n",
    "    return -1 / z - 1 / z ** 2 * MP_Stieltjes(1 / z, gamma)\n",
    "\n",
    "\n",
    "# compute the R-transform of MP\n",
    "def MP_R(z, gamma):\n",
    "    return 1 / (1 - gamma * z)\n",
    "\n",
    "\n",
    "# compute the R-transform of inv-MP\n",
    "def inv_MP_R(z, gamma):\n",
    "    a = (z + 1) * gamma\n",
    "    b = -z * gamma * (1 + gamma)\n",
    "    c = (z * gamma) ** 2\n",
    "    w = (-b + sqrt(b ** 2 - 4 * a * c)) / (2 * a)\n",
    "    w2 = (-b - sqrt(b ** 2 - 4 * a * c)) / (2 * a)\n",
    "    # print(w2)\n",
    "    # w2 = (z * (gamma + 1) - sqrt(z ** 2 * (gamma + 1) ** 2 - 4 * gamma * (z + 1) * z ** 2)) / (2 * (z + 1) * gamma)\n",
    "    num = 8 * (z + 1) ** 2 * gamma ** 2\n",
    "    den = z * (gamma + 1 + sqrt((gamma + 1) ** 2 - 4 * gamma * (z + 1)))\n",
    "    # return num / den - 1 / z\n",
    "    return 1 / w2 - 1 / z\n",
    "\n",
    "\n",
    "# compute the inverse of the Stieltjes transform of inv-MP\n",
    "def inv_MP_Stieltjes_inv(z, gamma, xi, lbd):\n",
    "    return 1 / (1 + z / xi) - (gamma - 1 - sqrt((gamma - 1) ** 2 + 4 * lbd * z)) / (2 * z) - 1 / z\n",
    "\n",
    "\n",
    "# compute the Stieltjes transform of inv-MP evaluated at zero\n",
    "def inv_MP_Stieltjes_0(gamma, xi, lbd):\n",
    "    maxiter = 100\n",
    "    tol = 1e-8\n",
    "    low = 0.01\n",
    "    high = 2\n",
    "    if inv_MP_Stieltjes_inv(low, gamma, xi, lbd) * inv_MP_Stieltjes_inv(high, gamma, xi, lbd) > 0:\n",
    "        print(\"no root\")\n",
    "        return\n",
    "    err = 1\n",
    "    old = 0\n",
    "    for i in range(maxiter):\n",
    "        mid = (low + high) / 2\n",
    "        if inv_MP_Stieltjes_inv(low, gamma, xi, lbd) * inv_MP_Stieltjes_inv(mid, gamma, xi, lbd) < 0:\n",
    "            high = mid\n",
    "        else:\n",
    "            low = mid\n",
    "        if abs(old - inv_MP_Stieltjes_inv(mid, gamma, xi, lbd)) < tol:\n",
    "            print(\"converged\")\n",
    "            break\n",
    "        old = inv_MP_Stieltjes_inv(mid, gamma, xi, lbd)\n",
    "    return mid\n",
    "\n",
    "\n",
    "# compute the first order derivative of the inverse function of the Stieltjes transform of inv-MP\n",
    "def diff_MP(z, gamma, xi, lbd):\n",
    "    epsilon = 1e-5\n",
    "    tol = 1e-8\n",
    "    maxiter = 100\n",
    "    ans = (inv_MP_Stieltjes_inv(z + epsilon, gamma, xi, lbd) - inv_MP_Stieltjes_inv(z - epsilon, gamma, xi, lbd)) / (2 * epsilon)\n",
    "    old = ans\n",
    "    for i in range(maxiter):\n",
    "        ans = (inv_MP_Stieltjes_inv(z + epsilon, gamma, xi, lbd) \n",
    "               - inv_MP_Stieltjes_inv(z - epsilon, gamma, xi, lbd)) / (2 * epsilon) \n",
    "        if abs(old - ans) < tol:\n",
    "            print('converged')\n",
    "            return ans\n",
    "        old = ans\n",
    "        epsilon = epsilon / 2\n",
    "    return ans\n",
    "        \n",
    "\n",
    "# compute the first order derivative evaluated at 0 of the Stieltjes transform of inv-MP\n",
    "def inv_MP_Stieltjes_derivative_0(gamma, xi, lbd):\n",
    "    m_0 = inv_MP_Stieltjes_0(gamma, xi, lbd)\n",
    "    print(m_0)\n",
    "    return 1 / diff_MP(m_0, gamma, xi, lbd)\n",
    " "
   ]
  },
  {
   "cell_type": "code",
   "execution_count": 3,
   "metadata": {},
   "outputs": [],
   "source": [
    "n = 500\n",
    "gamma = 0.9\n",
    "p = int(n * gamma)\n",
    "alpha = 1\n",
    "sigma = 1e-7\n",
    "num_steps = 20\n",
    "zeta_seq = np.linspace(1, 2, num_steps)\n",
    "dual_simu = np.zeros((num_steps, 3))\n",
    "dual_theo = np.zeros((100, 3))\n",
    "rep = 10\n",
    "lbd_seq = [0.1, 0.3, 0.5]"
   ]
  },
  {
   "cell_type": "code",
   "execution_count": 10,
   "metadata": {},
   "outputs": [],
   "source": [
    "# orthogonal dual projection\n",
    "for j in range(1):\n",
    "    lbd = gamma * sigma ** 2 / alpha ** 2\n",
    "    for i in range(num_steps):\n",
    "        zeta = zeta_seq[i]\n",
    "        d = int(n * zeta)\n",
    "        for k in range(rep):\n",
    "            X = np.random.randn(n, p)\n",
    "            beta = np.random.randn(p, 1) * alpha / sqrt(p)\n",
    "            epsilon = np.random.randn(n, 1) * sigma\n",
    "            Y = X @ beta + epsilon\n",
    "            R = generate_haar_matrix(p, d)\n",
    "            beta_dual = X.T / n @ inv(X @ R @ R.T @ X.T / n + lbd * np.identity(n)) @ Y\n",
    "            dual_simu[i, j] = dual_simu[i, j] + np.linalg.norm(beta_dual - beta) ** 2 / rep"
   ]
  },
  {
   "cell_type": "code",
   "execution_count": 297,
   "metadata": {
    "collapsed": true
   },
   "outputs": [],
   "source": [
    "zeta_seq_2 = np.linspace(0.1, 0.5, 100) \n",
    "for j in range(1):\n",
    "    lbd = gamma * sigma ** 2 / alpha ** 2\n",
    "    for i in range(100):\n",
    "        zeta = zeta_seq_2[i]\n",
    "        dual_theo[i, j] = MSE_dual(lbd, gamma, zeta, alpha, sigma, verbose=1)[0]"
   ]
  },
  {
   "cell_type": "code",
   "execution_count": 4,
   "metadata": {},
   "outputs": [],
   "source": [
    "n = 500\n",
    "p = 700\n",
    "d = 600\n",
    "gamma = p / n\n",
    "xi = d / n\n",
    "alpha = 1\n",
    "sigma = 1e-8\n",
    "num_steps = 10\n",
    "zeta_seq = np.linspace(0.1, 2, num_steps)\n",
    "rep = 50\n",
    "dual_simu_gaus = np.zeros((rep, num_steps))\n",
    "lbd = 1"
   ]
  },
  {
   "cell_type": "code",
   "execution_count": 5,
   "metadata": {},
   "outputs": [],
   "source": [
    "# Gaussian dual projection\n",
    "for i in range(num_steps):\n",
    "    zeta = zeta_seq[i]\n",
    "    d = int(n * zeta)\n",
    "    for k in range(rep):\n",
    "        X = np.random.randn(n, p)\n",
    "        beta = np.random.randn(p, 1) * alpha / sqrt(p)\n",
    "        epsilon = np.random.randn(n, 1) * sigma\n",
    "        Y = X @ beta \n",
    "        R = np.random.randn(p, d) / sqrt(d)\n",
    "        # R = generate_haar_matrix(p, d)\n",
    "        beta_dual = X.T / n @ inv(X @ R @ R.T @ X.T / n + lbd * np.identity(n)) @ Y\n",
    "        dual_simu_gaus[k, i] = norm(beta_dual - beta) ** 2\n"
   ]
  },
  {
   "cell_type": "code",
   "execution_count": 6,
   "metadata": {
    "collapsed": true
   },
   "outputs": [
    {
     "name": "stdout",
     "output_type": "stream",
     "text": [
      "converged\nconverged\n1.1871523558348418\nconverged\nconverged\nconverged\n1.152420945242047\nconverged\nconverged\nconverged\n1.1195826909691098\nconverged\nconverged\nconverged\n1.0885865003615618\nconverged\nconverged\nconverged\n1.0593732743710285\nconverged\nconverged\nconverged\n1.0318772419542075\nconverged\nconverged\nconverged\n1.0060270275920624\nconverged\nconverged\nconverged\n0.9817471339553592\nconverged\nconverged\nconverged\n0.9589591873437164\nconverged\nconverged\nconverged\n0.9375833610445257\nconverged\nconverged\nconverged\n0.9175394428521395\nconverged\nconverged\nconverged\n0.8987479322403668\nconverged\nconverged\nconverged\n0.8811308335885404\nconverged\nconverged\nconverged\n0.864612575434148\nconverged\nconverged\nconverged\n0.8491203514859078\nconverged\nconverged\nconverged\n0.8345846988633274\nconverged\nconverged\nconverged\n0.8209396686032413\nconverged\nconverged\nconverged\n0.8081230480596424\nconverged\nconverged\nconverged\n0.7960763757303355\nconverged\nconverged\nconverged\n0.7847450153902171\nconverged\nconverged\nconverged\n0.7740779633447528\nconverged\nconverged\nconverged\n0.7640278336033224\nconverged\nconverged\nconverged\n0.7545506651327012\nconverged\nconverged\nconverged\n0.7456057142838834\nconverged\nconverged\nconverged\n0.7371553510054945\nconverged\nconverged\nconverged\n0.7291647771373391\nconverged\nconverged\nconverged\n0.7216019077971578\nconverged\nconverged\nconverged\n0.7144371193274854\nconverged\nconverged\nconverged\n0.707643101029098\nconverged\nconverged\nconverged\n0.7011946920678018\nconverged\nconverged\nconverged\n0.6950686590746045\nconverged\nconverged\nconverged\n0.6892435923591256\nconverged\nconverged\nconverged\n0.6836997576430441\nconverged\nconverged\nconverged\n0.6784189033135772\nconverged\nconverged\nconverged\n0.673384215943515\nconverged\nconverged\nconverged\n0.6685801571980117\nconverged\nconverged\nconverged\n0.6639923303946853\nconverged\nconverged\nconverged\n0.6596074545569717\nconverged\nconverged\nconverged\n0.6554132161475716\nconverged\nconverged\nconverged\n0.6513982245884835\nconverged\nconverged\nconverged\n0.6475519010610877\nconverged\nconverged\nconverged\n0.6438644377328455\nconverged\nconverged\nconverged\n0.6403267310373484\nconverged\nconverged\nconverged\n0.6369303075410426\nconverged\nconverged\nconverged\n0.6336673017032446\nconverged\nconverged\nconverged\n0.630530374329537\nconverged\nconverged\nconverged\n0.6275127051584422\nconverged\nconverged\nconverged\n0.6246079187281428\nconverged\nconverged\nconverged\n0.6218100695498288\nconverged\nconverged\nconverged\n0.6191136050410568\nconverged\nconverged\nconverged\n0.6165133358724415\nconverged\nconverged\nconverged\n0.6140043989010153\nconverged\nconverged\nconverged\n0.6115822497569023\nconverged\nconverged\nconverged\n0.6092426109500226\nconverged\nconverged\nconverged\n0.6069815015234052\nconverged\nconverged\nconverged\n0.6047951555065809\nconverged\nconverged\nconverged\n0.6026800515688955\nconverged\nconverged\nconverged\n0.6006328759528694\nconverged\nconverged\nconverged\n0.5986504928208889\nconverged\nconverged\nconverged\n0.5967299813218416\nconverged\nconverged\nconverged\n0.5948685688711703\nconverged\nconverged\nconverged\n0.5930636385641992\nconverged\nconverged\nconverged\n0.5913127365894615\nconverged\nconverged\nconverged\n0.5896135351620613\nconverged\nconverged\nconverged\n0.5879638251103461\nconverged\nconverged\nconverged\n0.5863615455292166\nconverged\nconverged\nconverged\n0.5848047170601784\nconverged\nconverged\nconverged\n0.5832914789579808\nconverged\nconverged\nconverged\n0.5818200742639601\nconverged\nconverged\nconverged\n0.5803888275660574\nconverged\nconverged\nconverged\n0.5789961524121463\nconverged\nconverged\nconverged\n0.5776405438967049\nconverged\nconverged\nconverged\n0.5763205712474881\nconverged\nconverged\nconverged\n0.5750348704122006\nconverged\nconverged\nconverged\n0.573782158885151\nconverged\nconverged\nconverged\n0.5725612060539425\nconverged\nconverged\nconverged\n0.5713708331994711\nconverged\nconverged\nconverged\n0.5702099357359112\nconverged\nconverged\nconverged\n0.569077446144074\nconverged\nconverged\nconverged\n0.5679723562113941\nconverged\nconverged\nconverged\n0.5668936947919427\nconverged\nconverged\nconverged\n0.5658405426330864\nconverged\nconverged\nconverged\n0.5648120249621569\nconverged\nconverged\nconverged\n0.5638072892464696\nconverged\nconverged\nconverged\n0.562825549673289\nconverged\nconverged\nconverged\n0.5618660278432068\nconverged\nconverged\nconverged\n0.5609279824234543\nconverged\nconverged\nconverged\n0.5600107239745555\nconverged\nconverged\nconverged\n0.5591135704703629\nconverged\nconverged\nconverged\n0.5582358843646942\nconverged\nconverged\nconverged\n0.5573770355246961\nconverged\nconverged\nconverged\n0.5565364457108077\nconverged\nconverged\nconverged\n0.5557135366834698\nconverged\nconverged\nconverged\n0.5549077672697604\nconverged\nconverged\nconverged\n0.5541186111234129\nconverged\nconverged\nconverged\n0.5533455641381442\nconverged\nconverged\nconverged\n0.5525881518609821\nconverged\nconverged\nconverged\n0.5518459072522819\nconverged\nconverged\nconverged\n0.5511183855123818\nconverged\nconverged\nconverged\n0.5504051492549478\nconverged\n"
     ]
    }
   ],
   "source": [
    "# theoretical part\n",
    "zeta_seq_2 = np.linspace(0.1, 2, 100)\n",
    "theo_gaus = np.zeros(100)\n",
    "for j in range(1):\n",
    "    lbd = gamma * sigma ** 2 / alpha ** 2\n",
    "    lbd = 1\n",
    "    for i in range(100):\n",
    "        zeta = zeta_seq_2[i]\n",
    "        bias_1 = alpha ** 2\n",
    "        bias_2 = 2 * alpha ** 2 / gamma * inv_MP_Stieltjes_0(gamma, zeta, lbd)\n",
    "        bias_3 = alpha ** 2 / gamma * inv_MP_Stieltjes_derivative_0(gamma, zeta, lbd)\n",
    "        theo_gaus[i] = bias_1 - bias_2 + bias_3"
   ]
  },
  {
   "cell_type": "code",
   "execution_count": 11,
   "metadata": {
    "collapsed": false
   },
   "outputs": [
    {
     "data": {
      "image/png": "[encoded data removed]",
      "text/plain": [
       "<Figure size 432x288 with 1 Axes>"
      ]
     },
     "metadata": {},
     "output_type": "display_data"
    }
   ],
   "source": [
    "# plt.figure(1, figsize=(12, 8))\n",
    "xx = np.mean(dual_simu_gaus, axis=0)\n",
    "yerr = np.std(dual_simu_gaus, axis=0)\n",
    "plt.errorbar(zeta_seq, xx, yerr, capsize=3, lw=3, label='Simulation')\n",
    "plt.plot(zeta_seq_2, theo_gaus, lw=3, ls='--', label='Theory')\n",
    "# plt.plot(zeta_seq_2, np.ones(100) * MSE_original(lbd, gamma, alpha, sigma), lw=3, ls='-.', label='No sketching')\n",
    "plt.grid(linestyle='dotted')\n",
    "plt.legend(fontsize=15)\n",
    "plt.xlabel(r'$d/n$', fontsize=15)\n",
    "plt.ylabel(r'MSE', fontsize=15)\n",
    "plt.title('Gaussian dual sketch (zero noise)', fontsize=15)\n",
    "plt.savefig('./Plots/dual_gaus_gamma_{}_alpha_{}_lbd_{}.png'.format(gamma, alpha, lbd))"
   ]
  },
  {
   "cell_type": "code",
   "execution_count": 5,
   "metadata": {
    "collapsed": true
   },
   "outputs": [
    {
     "name": "stdout",
     "output_type": "stream",
     "text": [
      "converged\nconverged\n0.7403707632794974\nconverged\nconverged\nconverged\n0.6342223634943365\nconverged\nconverged\nconverged\n0.5659191832132635\nconverged\nconverged\nconverged\n0.5212173954583703\nconverged\nconverged\nconverged\n0.49076707040891054\nconverged\nconverged\nconverged\n0.4691004266776143\nconverged\nconverged\nconverged\n0.45306392362341275\nconverged\nconverged\nconverged\n0.440790129173547\nconverged\nconverged\nconverged\n0.43112973104231045\nconverged\nconverged\nconverged\n0.4233468637894837\nconverged\nconverged\nconverged\n0.4169527648668737\nconverged\nconverged\nconverged\n0.4116119737830012\nconverged\nconverged\nconverged\n0.4070875198114663\nconverged\nconverged\nconverged\n0.40320769916288557\nconverged\nconverged\nconverged\n0.3998453065473585\nconverged\nconverged\nconverged\n0.39690423558466137\nconverged\nconverged\nconverged\n0.3943105939310044\nconverged\nconverged\nconverged\n0.3920066910702735\nconverged\nconverged\nconverged\n0.3899468609038741\nconverged\nconverged\nconverged\n0.3880944964196533\nconverged\nconverged\nconverged\n0.38641991836018863\nconverged\nconverged\nconverged\n0.3848988258372992\nconverged\nconverged\nconverged\n0.38351113985292606\nconverged\nconverged\nconverged\n0.3822401136998087\nconverged\nconverged\nconverged\n0.3810716917086392\nconverged\nconverged\nconverged\n0.3799939680751413\nconverged\nconverged\nconverged\n0.37899681619368486\nconverged\nconverged\nconverged\n0.3780715476442128\nconverged\nconverged\nconverged\n0.3772106860857456\nconverged\nconverged\nconverged\n0.376407752269879\nconverged\nconverged\nconverged\n0.3756570972409099\nconverged\nconverged\nconverged\n0.37495379484258584\nconverged\nconverged\nconverged\n0.37429350827820596\nconverged\nconverged\nconverged\n0.3736724159773439\nconverged\nconverged\nconverged\n0.3730871337559074\nconverged\nconverged\nconverged\n0.37253465921618045\nconverged\nconverged\nconverged\n0.3720123161468655\nconverged\nconverged\nconverged\n0.37151770633645353\nconverged\nconverged\nconverged\n0.3710486799199135\nconverged\nconverged\nconverged\n0.37060330943204467\nconverged\nconverged\nconverged\n0.37017984532751147\nconverged\nconverged\nconverged\n0.36977671968750647\nconverged\nconverged\nconverged\n0.36939249803312124\nconverged\nconverged\nconverged\n0.36902588673867276\nconverged\nconverged\nconverged\n0.3686756996717303\nconverged\nconverged\nconverged\n0.3683408618997782\nconverged\nconverged\nconverged\n0.36802038374356927\nconverged\nconverged\nconverged\n0.3677133681904523\nconverged\nconverged\nconverged\n0.36741897753439845\nconverged\nconverged\nconverged\n0.36713645190931854\nconverged\nconverged\nconverged\n0.3668650907557457\nconverged\nconverged\nconverged\n0.3666042454075068\nconverged\nconverged\nconverged\n0.36635331538505855\nconverged\nconverged\nconverged\n0.3661117446888238\nconverged\nconverged\nconverged\n0.3658790255058556\nconverged\nconverged\nconverged\n0.36565467226319015\nconverged\nconverged\nconverged\n0.36543825128115714\nconverged\nconverged\nconverged\n0.36522934370674187\nconverged\nconverged\nconverged\n0.3650275640469044\nconverged\nconverged\nconverged\n0.3648325601685791\nconverged\nconverged\nconverged\n0.3646439910586923\nconverged\nconverged\nconverged\n0.3644615416508168\nconverged\nconverged\nconverged\n0.3642849265318363\nconverged\nconverged\nconverged\n0.36411386770196263\nconverged\nconverged\nconverged\n0.36394810198806216\nconverged\nconverged\nconverged\n0.3637873921636492\nconverged\nconverged\nconverged\n0.3636315121222288\nconverged\nconverged\nconverged\n0.3634802431706339\nconverged\nconverged\nconverged\n0.3633333888556808\nconverged\nconverged\nconverged\n0.36319075272418555\nconverged\nconverged\nconverged\n0.3630521605629474\nconverged\nconverged\nconverged\n0.3629174381587654\nconverged\nconverged\nconverged\n0.36278642983175813\nconverged\nconverged\nconverged\n0.36265898360870774\nconverged\nconverged\nconverged\n0.3625349586363882\nconverged\nconverged\nconverged\n0.3624142103549093\nconverged\nconverged\nconverged\n0.3622966201510279\nconverged\nconverged\nconverged\n0.3621820619981735\nconverged\nconverged\nconverged\n0.36207041728310274\nconverged\nconverged\nconverged\n0.36196158221922814\nconverged\nconverged\nconverged\n0.3618554456066341\nconverged\nconverged\nconverged\n0.36175191477872426\nconverged\nconverged\nconverged\n0.3616508896555751\nconverged\nconverged\nconverged\n0.361552284983918\nconverged\nconverged\nconverged\n0.36145600809715683\nconverged\nconverged\nconverged\n0.36136198486201465\nconverged\nconverged\nconverged\n0.36127013743855063\nconverged\nconverged\nconverged\n0.36118038428015997\nconverged\nconverged\nconverged\n0.3610926586668938\nconverged\nconverged\nconverged\n0.36100689017213883\nconverged\nconverged\nconverged\n0.3609230194892733\nconverged\nconverged\nconverged\n0.3608409798983484\nconverged\nconverged\nconverged\n0.3607607120927423\nconverged\nconverged\nconverged\n0.36068216047249724\nconverged\nconverged\nconverged\n0.36060527314431956\nconverged\nconverged\nconverged\n0.36052999080158776\nconverged\nconverged\nconverged\n0.3604562726709991\nconverged\nconverged\nconverged\n0.3603840631525963\nconverged\nconverged\nconverged\n0.36031331776641307\nconverged\nconverged\nconverged\n0.3602439957391469\nconverged\n"
     ]
    }
   ],
   "source": [
    "zeta_seq_2 = np.linspace(0.1, 10, 100)\n",
    "theo_gaus = np.zeros(100)\n",
    "for j in range(1):\n",
    "    lbd = gamma * sigma ** 2 / alpha ** 2\n",
    "    lbd = 1\n",
    "    for i in range(100):\n",
    "        zeta = zeta_seq_2[i]\n",
    "        bias_1 = alpha ** 2\n",
    "        bias_2 = 2 * alpha ** 2 / gamma * inv_MP_Stieltjes_0(gamma, zeta, lbd)\n",
    "        bias_3 = alpha ** 2 / gamma * inv_MP_Stieltjes_derivative_0(gamma, zeta, lbd)\n",
    "        theo_gaus[i] = bias_1 - bias_2 + bias_3\n"
   ]
  },
  {
   "cell_type": "code",
   "execution_count": 6,
   "metadata": {},
   "outputs": [
    {
     "data": {
      "text/plain": [
       "[<matplotlib.lines.Line2D at 0x1218e1080>]"
      ]
     },
     "execution_count": 6,
     "metadata": {},
     "output_type": "execute_result"
    },
    {
     "data": {
      "image/png": "[encoded data removed]",
      "text/plain": [
       "<Figure size 432x288 with 1 Axes>"
      ]
     },
     "metadata": {},
     "output_type": "display_data"
    }
   ],
   "source": [
    "plt.plot(zeta_seq_2, theo_gaus)\n",
    "plt.plot(zeta_seq_2, np.ones(100) * MSE_original(lbd, gamma, alpha, sigma))"
   ]
  },
  {
   "cell_type": "code",
   "execution_count": null,
   "metadata": {},
   "outputs": [],
   "source": []
  }
 ],
 "metadata": {
  "kernelspec": {
   "display_name": "Python 2",
   "language": "python",
   "name": "python2"
  },
  "language_info": {
   "codemirror_mode": {
    "name": "ipython",
    "version": 2
   },
   "file_extension": ".py",
   "mimetype": "text/x-python",
   "name": "python",
   "nbconvert_exporter": "python",
   "pygments_lexer": "ipython2",
   "version": "2.7.6"
  }
 },
 "nbformat": 4,
 "nbformat_minor": 0
}
